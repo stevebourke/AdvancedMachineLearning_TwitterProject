{
 "cells": [
  {
   "cell_type": "code",
   "execution_count": 1,
   "id": "6a5aa3cd",
   "metadata": {},
   "outputs": [],
   "source": [
    "from sklearn.model_selection import train_test_split\n",
    "from sklearn.naive_bayes import GaussianNB, MultinomialNB, BernoulliNB\n",
    "from sklearn.feature_extraction.text import TfidfVectorizer\n",
    "from sklearn.metrics import classification_report\n",
    "from vaderSentiment.vaderSentiment import SentimentIntensityAnalyzer\n",
    "\n",
    "import pandas as pd\n",
    "import numpy as np"
   ]
  },
  {
   "cell_type": "code",
   "execution_count": 2,
   "id": "e2a55047",
   "metadata": {},
   "outputs": [],
   "source": [
    "#Needed for tfidf command below\n",
    "def dummy(doc):\n",
    "    return doc"
   ]
  },
  {
   "cell_type": "code",
   "execution_count": 3,
   "id": "2db41375",
   "metadata": {},
   "outputs": [],
   "source": [
    "#Get the dataframe of tweets\n",
    "df = pd.read_csv('data\\\\tweets_all.csv')\n",
    "\n",
    "#Split into three df's based on topic\n",
    "df_politics = df.loc[df['topic'].isin([\"Sinn Fein\", \"Qanon\", \"Varadkar\"])]\n",
    "df_TV = df.loc[df['topic'].isin([\"Eastenders\", \"Tommy Tiernan\", \"Eoghan McDermott\"])]\n",
    "df_others = df.loc[df['topic'].isin([\"Pancakes\", \"Burren\", \"Daniel Kinahan\", \"Shamrock Rovers\"])]\n"
   ]
  },
  {
   "cell_type": "code",
   "execution_count": 4,
   "id": "efde558b",
   "metadata": {},
   "outputs": [],
   "source": [
    "#Split into train and test data\n",
    "#Use politics tweets to train the model and then use on TV tweets\n",
    "#Result is only 0.348 accuracy\n",
    "# 0.33 for bigram\n",
    "# 0.34 for trigram\n",
    "x_train = df_politics['clean_text']\n",
    "x_test = df_TV['clean_text']\n",
    "y_train = df_politics['sentiment']\n",
    "y_test = df_TV['sentiment']"
   ]
  },
  {
   "cell_type": "code",
   "execution_count": 7,
   "id": "a8e38821",
   "metadata": {},
   "outputs": [
    {
     "name": "stdout",
     "output_type": "stream",
     "text": [
      "0.4573643410852713\n",
      "              precision    recall  f1-score   support\n",
      "\n",
      "    Negative       0.67      0.66      0.67        85\n",
      "     Neutral       0.20      0.03      0.05        36\n",
      "    Positive       0.05      0.25      0.08         8\n",
      "\n",
      "    accuracy                           0.46       129\n",
      "   macro avg       0.31      0.31      0.27       129\n",
      "weighted avg       0.50      0.46      0.46       129\n",
      "\n",
      "col_0      Negative  Neutral  Positive\n",
      "sentiment                             \n",
      "Negative         56        4        25\n",
      "Neutral          21        1        14\n",
      "Positive          6        0         2\n"
     ]
    }
   ],
   "source": [
    "tfidf = TfidfVectorizer(analyzer='word', tokenizer=dummy, preprocessor=dummy, token_pattern=None, ngram_range=(1,3))\n",
    "\n",
    "x_train1 = tfidf.fit_transform(x_train)\n",
    "x_test1 = tfidf.transform(x_test)\n",
    "\n",
    "\n",
    "nb_clf =  MultinomialNB(alpha=0.005)\n",
    "\n",
    "nb_clf.fit(x_train1, y_train)\n",
    "\n",
    "print(nb_clf.score(x_test1, y_test))\n",
    "\n",
    "y_pred = nb_clf.predict(x_test1)\n",
    "\n",
    "print(classification_report(y_test, y_pred))\n",
    "print(pd.crosstab(y_test, y_pred))"
   ]
  },
  {
   "cell_type": "code",
   "execution_count": 6,
   "id": "47c1f375",
   "metadata": {},
   "outputs": [],
   "source": [
    "#Split into train and test data\n",
    "#Use TV tweets to train the model and then use on politics tweets\n",
    "#Result is only 0.24 accuracy\n",
    "# 0.325 for bigrams\n",
    "# 0.43 for trigrams\n",
    "x_train = df_TV['clean_text']\n",
    "x_test = df_politics['clean_text']\n",
    "y_train = df_TV['sentiment']\n",
    "y_test = df_politics['sentiment']"
   ]
  },
  {
   "cell_type": "code",
   "execution_count": 41,
   "id": "a2b8e73c",
   "metadata": {},
   "outputs": [],
   "source": [
    "#Split into train and test data\n",
    "#Use TV tweets to train the model and then use on others tweets\n",
    "#Result is 0.57 accuracy\n",
    "# 0.47 for bigrams\n",
    "# 0.48 for trigrams\n",
    "x_train = df_TV['clean_text']\n",
    "x_test = df_others['clean_text']\n",
    "y_train = df_TV['sentiment']\n",
    "y_test = df_others['sentiment']"
   ]
  },
  {
   "cell_type": "code",
   "execution_count": 57,
   "id": "a0fd66ca",
   "metadata": {},
   "outputs": [],
   "source": [
    "#Split into train and test data\n",
    "#Use others tweets to train the model and then use on TV tweets\n",
    "#Result is 0.55 accuracy\n",
    "# 0.39 for bigrams\n",
    "# 0.39 for trigrams\n",
    "x_train = df_others['clean_text']\n",
    "x_test = df_TV['clean_text']\n",
    "y_train = df_others['sentiment']\n",
    "y_test = df_TV['sentiment']"
   ]
  },
  {
   "cell_type": "code",
   "execution_count": 49,
   "id": "de73293f",
   "metadata": {},
   "outputs": [],
   "source": [
    "#Split into train and test data\n",
    "#Use others tweets to train the model and then use on politics tweets\n",
    "#Result is only 0.326 accuracy\n",
    "# 0.42 for bigrams\n",
    "# 0.52 for trigrams\n",
    "x_train = df_others['clean_text']\n",
    "x_test = df_politics['clean_text']\n",
    "y_train = df_others['sentiment']\n",
    "y_test = df_politics['sentiment']"
   ]
  },
  {
   "cell_type": "code",
   "execution_count": 59,
   "id": "f608a784",
   "metadata": {},
   "outputs": [],
   "source": [
    "#Split into train and test data\n",
    "#Use politics tweets to train the model and then use on others tweets\n",
    "#Result is only 0.39 accuracy\n",
    "# 0.39 for bigrams\n",
    "# 0.38 for trigrams\n",
    "x_train = df_politics['clean_text']\n",
    "x_test = df_others['clean_text']\n",
    "y_train = df_politics['sentiment']\n",
    "y_test = df_others['sentiment']"
   ]
  },
  {
   "cell_type": "code",
   "execution_count": null,
   "id": "106ad6b0",
   "metadata": {},
   "outputs": [],
   "source": []
  }
 ],
 "metadata": {
  "kernelspec": {
   "display_name": "Python 3",
   "language": "python",
   "name": "python3"
  },
  "language_info": {
   "codemirror_mode": {
    "name": "ipython",
    "version": 3
   },
   "file_extension": ".py",
   "mimetype": "text/x-python",
   "name": "python",
   "nbconvert_exporter": "python",
   "pygments_lexer": "ipython3",
   "version": "3.8.8"
  }
 },
 "nbformat": 4,
 "nbformat_minor": 5
}
